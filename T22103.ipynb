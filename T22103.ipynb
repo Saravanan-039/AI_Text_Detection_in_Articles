{
  "nbformat": 4,
  "nbformat_minor": 0,
  "metadata": {
    "colab": {
      "provenance": [],
      "authorship_tag": "ABX9TyMj6d6qBY2pJ4kIO7X6RbpD",
      "include_colab_link": true
    },
    "kernelspec": {
      "name": "python3",
      "display_name": "Python 3"
    },
    "language_info": {
      "name": "python"
    }
  },
  "cells": [
    {
      "cell_type": "markdown",
      "metadata": {
        "id": "view-in-github",
        "colab_type": "text"
      },
      "source": [
        "<a href=\"https://colab.research.google.com/github/Saravanan-039/ML-challenge/blob/main/T22103.ipynb\" target=\"_parent\"><img src=\"https://colab.research.google.com/assets/colab-badge.svg\" alt=\"Open In Colab\"/></a>"
      ]
    },
    {
      "cell_type": "code",
      "execution_count": null,
      "metadata": {
        "id": "CFZ7LXE7_IUH"
      },
      "outputs": [],
      "source": [
        "#1\n",
        "\n",
        "import pandas as pd\n",
        "from sklearn.model_selection import train_test_split\n",
        "from sklearn.linear_model import SGDClassifier\n",
        "from sklearn.metrics import accuracy_score\n",
        "from sklearn.feature_extraction.text import TfidfVectorizer\n",
        "\n",
        "d= pd.read_csv('labelled_train_set.csv')\n",
        "\n",
        "X = d.drop(['Type', 'ID'], axis=1)\n",
        "y = d['Type']\n",
        "\n",
        "vect = TfidfVectorizer()\n",
        "X = vect.fit_transform(X['Article'])\n",
        "\n",
        "Xtrain, Xtest, ytrain, ytest = train_test_split(X, y, test_size=0.2, random_state=100)\n",
        "\n",
        "model = SGDClassifier(loss='hinge', random_state=42)\n",
        "\n",
        "model.fit(Xtrain, ytrain)\n",
        "\n",
        "ypred = model.predict(Xtest)\n",
        "\n",
        "df = pd.read_csv('unlabelled_test2.csv')\n",
        "pt = df['Article']\n",
        "\n",
        "pv = vect.transform(pt)\n",
        "ypred = model.predict(pv)\n",
        "\n",
        "for test_id, prediction in zip(df['ID'], ypred):\n",
        "    predicted_label = 0 if prediction == \"Human-written\" else 1\n",
        "\n",
        "labels = [0 if prediction == \"Human-written\" else 1 for prediction in ypred]\n",
        "\n",
        "results = pd.DataFrame({\n",
        "    'ID': df['ID'],\n",
        "    'Predicted Type': labels\n",
        "})\n",
        "results.to_csv('predictions.csv', index=False)"
      ]
    },
    {
      "cell_type": "code",
      "source": [
        "#2\n",
        "\n",
        "import pandas as pd\n",
        "from sklearn.model_selection import train_test_split\n",
        "from sklearn.linear_model import Perceptron\n",
        "from sklearn.metrics import accuracy_score\n",
        "from sklearn.feature_extraction.text import TfidfVectorizer\n",
        "\n",
        "d = pd.read_csv('labelled_train_set.csv')\n",
        "\n",
        "X = d.drop(['Type', 'ID'], axis=1)\n",
        "y = d['Type']\n",
        "\n",
        "vect = TfidfVectorizer()\n",
        "X = vect.fit_transform(X['Article'])\n",
        "\n",
        "Xtrain, Xtest, ytrain, ytest = train_test_split(X, y, test_size=0.2, random_state=42)\n",
        "\n",
        "model = Perceptron()\n",
        "\n",
        "model.fit(Xtrain, ytrain)\n",
        "\n",
        "ypred = model.predict(Xtest)\n",
        "\n",
        "df = pd.read_csv('unlabelled_test2.csv')\n",
        "text = df['Article']\n",
        "\n",
        "vectors = vect.transform(text)\n",
        "ypred = model.predict(vectors)\n",
        "\n",
        "labels = [0 if prediction == \"Human-written\" else 1 for prediction in ypred]\n",
        "\n",
        "result = pd.DataFrame({\n",
        "    'ID': df['ID'],\n",
        "    'Predicted Type': labels\n",
        "})\n",
        "\n",
        "\n",
        "result.to_csv('prediction2.csv', index=False)\n",
        "\n"
      ],
      "metadata": {
        "id": "guPLUFWDFDxD"
      },
      "execution_count": null,
      "outputs": []
    },
    {
      "cell_type": "code",
      "source": [
        "!pip install emoji\n",
        "\n",
        "\n",
        "import pandas as pd\n",
        "import re\n",
        "import emoji\n",
        "from sklearn.model_selection import train_test_split, GridSearchCV\n",
        "from sklearn.linear_model import SGDClassifier\n",
        "from sklearn.metrics import accuracy_score, classification_report\n",
        "from sklearn.feature_extraction.text import TfidfVectorizer\n",
        "\n",
        "def preprocess_text(text):\n",
        "    text = emoji.replace_emoji(text, replace=' ')\n",
        "    text = re.sub(r'[^\\w\\s]', '', text)\n",
        "    return text.lower()\n",
        "\n",
        "d = pd.read_csv('labelled_train_set.csv')\n",
        "\n",
        "d['Article'] = d['Article'].apply(preprocess_text)\n",
        "\n",
        "X = d.drop(['Type', 'ID'], axis=1)\n",
        "y = d['Type']\n",
        "\n",
        "vect = TfidfVectorizer(ngram_range=(1, 3))\n",
        "X = vect.fit_transform(X['Article'])\n",
        "\n",
        "Xtrain, Xtest, ytrain, ytest = train_test_split(X, y, test_size=0.2, random_state=100)\n",
        "\n",
        "grid = {\n",
        "    'loss': ['hinge', 'log_loss', 'modified_huber'],\n",
        "    'alpha': [1e-4, 1e-3, 1e-2],\n",
        "    'max_iter': [1000, 2000],\n",
        "    'class_weight': [None, 'balanced']\n",
        "}\n",
        "\n",
        "grid_search = GridSearchCV(SGDClassifier(random_state=42), grid, cv=5, scoring='f1_weighted')\n",
        "grid_search.fit(Xtrain, ytrain)\n",
        "\n",
        "model = grid_search.best_estimator_\n",
        "\n",
        "model.fit(Xtrain, ytrain)\n",
        "\n",
        "pred = model.predict(Xtest)\n",
        "\n",
        "df = pd.read_csv('unlabelled_test2.csv')\n",
        "ptext = df['Article']\n",
        "\n",
        "vectors = vect.transform(ptext)\n",
        "pred = model.predict(vectors)\n",
        "\n",
        "for test_id, prediction in zip(df['ID'], pred):\n",
        "    predicted_label = 0 if prediction == \"Human-written\" else 1\n",
        "\n",
        "label = [0 if prediction == \"Human-written\" else 1 for prediction in pred]\n",
        "\n",
        "result = pd.DataFrame({\n",
        "    'ID': df['ID'],\n",
        "    'Predicted Type': label\n",
        "})\n",
        "\n",
        "result.to_csv('predictions3.csv', index=False)"
      ],
      "metadata": {
        "colab": {
          "base_uri": "https://localhost:8080/"
        },
        "id": "d0mGG_2RGaUU",
        "outputId": "78c9991c-98b2-479e-db6c-9915e46e0c56"
      },
      "execution_count": null,
      "outputs": [
        {
          "output_type": "stream",
          "name": "stdout",
          "text": [
            "Requirement already satisfied: emoji in /usr/local/lib/python3.10/dist-packages (2.12.1)\n",
            "Requirement already satisfied: typing-extensions>=4.7.0 in /usr/local/lib/python3.10/dist-packages (from emoji) (4.12.2)\n"
          ]
        }
      ]
    }
  ]
}